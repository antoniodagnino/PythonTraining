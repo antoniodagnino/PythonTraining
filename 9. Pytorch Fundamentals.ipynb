{
 "cells": [
  {
   "cell_type": "markdown",
   "metadata": {},
   "source": [
    "# 9. Pytorch Fundamentals"
   ]
  },
  {
   "cell_type": "markdown",
   "metadata": {},
   "source": [
    "- **Reference information**\n",
    "- **Create Tensors**\n",
    "    - torch.randint\n",
    "    - torch.arange\n",
    "    - torch.arange with trick to make them float\n",
    "    - torch rand (return scalars between 0 and 1)\n",
    "    - torch.randn (return scalars from the standard normal dist)\n",
    "    - torch.linspace\n",
    "    - torch.empty\n",
    "    - torch.zeros\n",
    "    - torch.zeros_like (Returns tensor filled with 0s with the same size as input.\n",
    "    - torch.ones\n",
    "    - torch.ones_like\n",
    "    - torch.full\n",
    "- **Convert to Tensors**\n",
    "    - from_numpy\n",
    "    - as_tensor\n",
    "    - tensor and Tensor (One converts to int and the other float)\n",
    "    - FloatTensor\n",
    "- **Handle Tensor Dimensions**\n",
    "    - reshape (this function will copy the underlying data)\n",
    "    - view   (this function will not copy the underlying data)\n",
    "    - view_as\n",
    "    - unsqueeze\n",
    "    - Use of None expression\n",
    "    - Slice Notation for Even Numbers\n",
    "    - Slice Notation for Odd Numbers\n",
    "    - Handle Tensor Ops based on dimensions\n",
    "- **Tensor Operations**\n",
    "    - Change Tensor type\n",
    "    - torch.cat\n",
    "    - torch.stack\n",
    "    - Matrix Transpose\n",
    "    - Permute\n",
    "    - torch.where\n",
    "    - Slice Notation\n",
    "    - Math Ops\n",
    "- **Tensor Attributes**\n",
    "    - Shape or Size (same thing)\n",
    "    - Device (CPU or GPU)\n",
    "    - Layout\n",
    "    - Mean\n",
    "    - Max\n",
    "    - argmin, argmax\n",
    "    - sum\n",
    "    - unique\n",
    "- **Probability Dist Functions**"
   ]
  },
  {
   "cell_type": "code",
   "execution_count": 3,
   "metadata": {},
   "outputs": [],
   "source": [
    "import torch\n",
    "import torch.distributions as dist\n",
    "import numpy as np"
   ]
  },
  {
   "cell_type": "markdown",
   "metadata": {},
   "source": [
    "## Reference information"
   ]
  },
  {
   "cell_type": "markdown",
   "metadata": {},
   "source": [
    "<h2><a href='https://pytorch.org/docs/stable/tensors.html'>Tensor Datatypes</a></h2>\n",
    "<table style=\"display: inline-block\">\n",
    "<tr><th>TYPE</th><th>NAME</th><th>EQUIVALENT</th><th>TENSOR TYPE</th></tr>\n",
    "<tr><td>32-bit integer (signed)</td><td>torch.int32</td><td>torch.int</td><td>IntTensor</td></tr>\n",
    "<tr><td>64-bit integer (signed)</td><td>torch.int64</td><td>torch.long</td><td>LongTensor</td></tr>\n",
    "<tr><td>16-bit integer (signed)</td><td>torch.int16</td><td>torch.short</td><td>ShortTensor</td></tr>\n",
    "<tr><td>32-bit floating point</td><td>torch.float32</td><td>torch.float</td><td>FloatTensor</td></tr>\n",
    "<tr><td>64-bit floating point</td><td>torch.float64</td><td>torch.double</td><td>DoubleTensor</td></tr>\n",
    "<tr><td>16-bit floating point</td><td>torch.float16</td><td>torch.half</td><td>HalfTensor</td></tr>\n",
    "<tr><td>8-bit integer (signed)</td><td>torch.int8</td><td></td><td>CharTensor</td></tr>\n",
    "<tr><td>8-bit integer (unsigned)</td><td>torch.uint8</td><td></td><td>ByteTensor</td></tr></table>"
   ]
  },
  {
   "cell_type": "markdown",
   "metadata": {},
   "source": [
    "**Tensor Operations**\n",
    "\n",
    "\n",
    "A <a href='https://en.wikipedia.org/wiki/Dot_product'>dot product</a> is the sum of the products of the corresponding entries of two 1D tensors. If the tensors are both vectors, the dot product is given as:<br>\n",
    "\n",
    "$\\begin{bmatrix} a & b & c \\end{bmatrix} \\;\\cdot\\; \\begin{bmatrix} d & e & f \\end{bmatrix} = ad + be + cf$\n",
    "\n",
    "If the tensors include a column vector, then the dot product is the sum of the result of the multiplied matrices. For example:<br>\n",
    "$\\begin{bmatrix} a & b & c \\end{bmatrix} \\;\\cdot\\; \\begin{bmatrix} d \\\\ e \\\\ f \\end{bmatrix} = ad + be + cf$<br><br>\n",
    "Dot products can be expressed as <a href='https://pytorch.org/docs/stable/torch.html#torch.dot'><strong><tt>torch.dot(a,b)</tt></strong></a> or `a.dot(b)` or `b.dot(a)`"
   ]
  },
  {
   "cell_type": "markdown",
   "metadata": {},
   "source": [
    "## Create Tensors\n",
    "\n",
    "\n",
    "    - torch.randint\n",
    "    - torch.arange\n",
    "    - torch.arange with trick to make them float\n",
    "    - torch rand (return scalars between 0 and 1)\n",
    "    - torch.randn (return scalars from the standard normal dist)\n",
    "    - torch.linspace\n",
    "    - torch.empty\n",
    "    - torch.zeros\n",
    "    - torch.zeros_like (Returns tensor filled with 0s with the same size as input.\n",
    "    - torch.ones\n",
    "    - torch.ones_like"
   ]
  },
  {
   "cell_type": "code",
   "execution_count": 2,
   "metadata": {},
   "outputs": [
    {
     "data": {
      "text/plain": [
       "tensor([[ 76,  93,  91],\n",
       "        [ 87,  22, 103],\n",
       "        [ 98,  62,  57]])"
      ]
     },
     "execution_count": 2,
     "metadata": {},
     "output_type": "execute_result"
    }
   ],
   "source": [
    "torch.randint(low=0,high=110,size=(3,3))"
   ]
  },
  {
   "cell_type": "code",
   "execution_count": 3,
   "metadata": {},
   "outputs": [
    {
     "data": {
      "text/plain": [
       "tensor([  0,  10,  20,  30,  40,  50,  60,  70,  80,  90, 100])"
      ]
     },
     "execution_count": 3,
     "metadata": {},
     "output_type": "execute_result"
    }
   ],
   "source": [
    "torch.arange(start=0,end=110,step=10)"
   ]
  },
  {
   "cell_type": "code",
   "execution_count": 4,
   "metadata": {},
   "outputs": [
    {
     "data": {
      "text/plain": [
       "tensor([  0.,  10.,  20.,  30.,  40.,  50.,  60.,  70.,  80.,  90., 100.])"
      ]
     },
     "execution_count": 4,
     "metadata": {},
     "output_type": "execute_result"
    }
   ],
   "source": [
    "#with trick to make them float\n",
    "\n",
    "torch.arange(start=0., end=110., step=10)"
   ]
  },
  {
   "cell_type": "code",
   "execution_count": 5,
   "metadata": {},
   "outputs": [
    {
     "data": {
      "text/plain": [
       "tensor([[0.9903, 0.6571, 0.0703],\n",
       "        [0.2785, 0.5521, 0.0156],\n",
       "        [0.2837, 0.8880, 0.6073]])"
      ]
     },
     "execution_count": 5,
     "metadata": {},
     "output_type": "execute_result"
    }
   ],
   "source": [
    "# return scalars between 0 and 1\n",
    "\n",
    "torch.rand(size=(3,3))"
   ]
  },
  {
   "cell_type": "code",
   "execution_count": 6,
   "metadata": {},
   "outputs": [
    {
     "data": {
      "text/plain": [
       "tensor([[ 0.3971, -0.9261, -1.5116],\n",
       "        [ 0.7428, -0.4200,  0.0467],\n",
       "        [-1.1810, -0.1793,  0.7002]])"
      ]
     },
     "execution_count": 6,
     "metadata": {},
     "output_type": "execute_result"
    }
   ],
   "source": [
    "# return scalars from the standard normal dist\n",
    "\n",
    "torch.randn(size=(3,3))"
   ]
  },
  {
   "cell_type": "code",
   "execution_count": 7,
   "metadata": {},
   "outputs": [
    {
     "data": {
      "text/plain": [
       "tensor([  0.0000,  11.1111,  22.2222,  33.3333,  44.4444,  55.5556,  66.6667,\n",
       "         77.7778,  88.8889, 100.0000])"
      ]
     },
     "execution_count": 7,
     "metadata": {},
     "output_type": "execute_result"
    }
   ],
   "source": [
    "torch.linspace(start=0,end=100,steps=10)"
   ]
  },
  {
   "cell_type": "code",
   "execution_count": 8,
   "metadata": {},
   "outputs": [
    {
     "data": {
      "text/plain": [
       "tensor([[4.0891e+31, 7.8893e-43, 0.0000e+00],\n",
       "        [0.0000e+00, 0.0000e+00, 0.0000e+00],\n",
       "        [0.0000e+00, 0.0000e+00, 0.0000e+00]])"
      ]
     },
     "execution_count": 8,
     "metadata": {},
     "output_type": "execute_result"
    }
   ],
   "source": [
    "torch.empty(size=(3,3))"
   ]
  },
  {
   "cell_type": "code",
   "execution_count": 9,
   "metadata": {},
   "outputs": [
    {
     "data": {
      "text/plain": [
       "tensor([[0., 0., 0.],\n",
       "        [0., 0., 0.],\n",
       "        [0., 0., 0.]])"
      ]
     },
     "execution_count": 9,
     "metadata": {},
     "output_type": "execute_result"
    }
   ],
   "source": [
    "torch.zeros(size=(3,3))"
   ]
  },
  {
   "cell_type": "code",
   "execution_count": 9,
   "metadata": {},
   "outputs": [
    {
     "data": {
      "text/plain": [
       "tensor([[0., 0., 0.],\n",
       "        [0., 0., 0.],\n",
       "        [0., 0., 0.],\n",
       "        [0., 0., 0.]])"
      ]
     },
     "execution_count": 9,
     "metadata": {},
     "output_type": "execute_result"
    }
   ],
   "source": [
    "# Returns tensor filled with 0s with the same size as input.\n",
    "\n",
    "x = torch.randint(low=0,high=110,size=(4,3)).float()\n",
    "\n",
    "torch.zeros_like(x)"
   ]
  },
  {
   "cell_type": "code",
   "execution_count": 11,
   "metadata": {},
   "outputs": [
    {
     "data": {
      "text/plain": [
       "tensor([[1., 1., 1.],\n",
       "        [1., 1., 1.],\n",
       "        [1., 1., 1.]])"
      ]
     },
     "execution_count": 11,
     "metadata": {},
     "output_type": "execute_result"
    }
   ],
   "source": [
    "torch.ones(size=(3,3))"
   ]
  },
  {
   "cell_type": "code",
   "execution_count": 12,
   "metadata": {},
   "outputs": [
    {
     "data": {
      "text/plain": [
       "tensor([[1, 1, 1],\n",
       "        [1, 1, 1],\n",
       "        [1, 1, 1],\n",
       "        [1, 1, 1]])"
      ]
     },
     "execution_count": 12,
     "metadata": {},
     "output_type": "execute_result"
    }
   ],
   "source": [
    "torch.ones_like(x)"
   ]
  },
  {
   "cell_type": "code",
   "execution_count": 13,
   "metadata": {},
   "outputs": [
    {
     "data": {
      "text/plain": [
       "tensor([[32, 32, 32, 32, 32, 32, 32, 32],\n",
       "        [32, 32, 32, 32, 32, 32, 32, 32],\n",
       "        [32, 32, 32, 32, 32, 32, 32, 32]])"
      ]
     },
     "execution_count": 13,
     "metadata": {},
     "output_type": "execute_result"
    }
   ],
   "source": [
    "torch.full(size=(3,8),fill_value=32)"
   ]
  },
  {
   "cell_type": "markdown",
   "metadata": {},
   "source": [
    "## Convert to Tensors\n",
    "\n",
    "    - from_numpy\n",
    "    - as_tensor\n",
    "    - tensor and Tensor (one converts to int and the other float)\n",
    "    - FloatTensor"
   ]
  },
  {
   "cell_type": "code",
   "execution_count": 14,
   "metadata": {},
   "outputs": [
    {
     "data": {
      "text/plain": [
       "array([  0,  10,  20,  30,  40,  50,  60,  70,  80,  90, 100])"
      ]
     },
     "execution_count": 14,
     "metadata": {},
     "output_type": "execute_result"
    }
   ],
   "source": [
    "xx = np.arange(0,110,10)\n",
    "xx"
   ]
  },
  {
   "cell_type": "code",
   "execution_count": 15,
   "metadata": {},
   "outputs": [
    {
     "data": {
      "text/plain": [
       "tensor([  0,  10,  20,  30,  40,  50,  60,  70,  80,  90, 100],\n",
       "       dtype=torch.int32)"
      ]
     },
     "execution_count": 15,
     "metadata": {},
     "output_type": "execute_result"
    }
   ],
   "source": [
    "torch.from_numpy(xx)"
   ]
  },
  {
   "cell_type": "code",
   "execution_count": 16,
   "metadata": {},
   "outputs": [
    {
     "data": {
      "text/plain": [
       "tensor([  0,  10,  20,  30,  40,  50,  60,  70,  80,  90, 100],\n",
       "       dtype=torch.int32)"
      ]
     },
     "execution_count": 16,
     "metadata": {},
     "output_type": "execute_result"
    }
   ],
   "source": [
    "torch.as_tensor(xx)"
   ]
  },
  {
   "cell_type": "code",
   "execution_count": 17,
   "metadata": {},
   "outputs": [
    {
     "data": {
      "text/plain": [
       "tensor([  0,  10,  20,  30,  40,  50,  60,  70,  80,  90, 100],\n",
       "       dtype=torch.int32)"
      ]
     },
     "execution_count": 17,
     "metadata": {},
     "output_type": "execute_result"
    }
   ],
   "source": [
    "#return tensor in integer data type\n",
    "\n",
    "torch.tensor(xx)"
   ]
  },
  {
   "cell_type": "code",
   "execution_count": 18,
   "metadata": {},
   "outputs": [
    {
     "data": {
      "text/plain": [
       "tensor([  0.,  10.,  20.,  30.,  40.,  50.,  60.,  70.,  80.,  90., 100.])"
      ]
     },
     "execution_count": 18,
     "metadata": {},
     "output_type": "execute_result"
    }
   ],
   "source": [
    "# return tensor in float data type\n",
    "\n",
    "torch.Tensor(xx)"
   ]
  },
  {
   "cell_type": "code",
   "execution_count": 19,
   "metadata": {},
   "outputs": [
    {
     "data": {
      "text/plain": [
       "tensor([  0.,  10.,  20.,  30.,  40.,  50.,  60.,  70.,  80.,  90., 100.])"
      ]
     },
     "execution_count": 19,
     "metadata": {},
     "output_type": "execute_result"
    }
   ],
   "source": [
    "torch.FloatTensor(xx)"
   ]
  },
  {
   "cell_type": "markdown",
   "metadata": {},
   "source": [
    "## Handle tensor dimensions\n",
    "\n",
    "    - reshape (this function will copy the underlying data)\n",
    "    - view   (this function will not copy the underlying data)\n",
    "    - view_as\n",
    "    - unsqueeze\n",
    "    - Use of None expression\n",
    "    - Slice Notation for Even Numbers\n",
    "    - Slice Notation for Odd Numbers\n",
    "    - Handle Tensor Ops based on dimensions"
   ]
  },
  {
   "cell_type": "code",
   "execution_count": 20,
   "metadata": {},
   "outputs": [
    {
     "data": {
      "text/plain": [
       "tensor([[ 59, 102,  84],\n",
       "        [ 78,   5,  41],\n",
       "        [ 93,  63,  87],\n",
       "        [ 50,  37,  10]])"
      ]
     },
     "execution_count": 20,
     "metadata": {},
     "output_type": "execute_result"
    }
   ],
   "source": [
    "x"
   ]
  },
  {
   "cell_type": "code",
   "execution_count": 21,
   "metadata": {},
   "outputs": [
    {
     "data": {
      "text/plain": [
       "tensor([[[ 59, 102,  84],\n",
       "         [ 78,   5,  41]],\n",
       "\n",
       "        [[ 93,  63,  87],\n",
       "         [ 50,  37,  10]]])"
      ]
     },
     "execution_count": 21,
     "metadata": {},
     "output_type": "execute_result"
    }
   ],
   "source": [
    "x.reshape(2,2,-1)"
   ]
  },
  {
   "cell_type": "code",
   "execution_count": 22,
   "metadata": {},
   "outputs": [
    {
     "data": {
      "text/plain": [
       "tensor([[ 59, 102,  84,  78],\n",
       "        [  5,  41,  93,  63],\n",
       "        [ 87,  50,  37,  10]])"
      ]
     },
     "execution_count": 22,
     "metadata": {},
     "output_type": "execute_result"
    }
   ],
   "source": [
    "x.view(3,-1)"
   ]
  },
  {
   "cell_type": "code",
   "execution_count": 23,
   "metadata": {},
   "outputs": [
    {
     "name": "stdout",
     "output_type": "stream",
     "text": [
      "tensor([[155, 174, 181],\n",
      "        [120, 150, 125],\n",
      "        [166, 106, 150],\n",
      "        [114, 168, 143]]) \n",
      "\n",
      " tensor([[ 59, 102,  84],\n",
      "        [ 78,   5,  41],\n",
      "        [ 93,  63,  87],\n",
      "        [ 50,  37,  10]])\n"
     ]
    }
   ],
   "source": [
    "#Tensor will be seen with same dimension as another existing tensor\n",
    "\n",
    "y = torch.randint(100,200,size=(4,3))\n",
    "\n",
    "print(y,\"\\n\\n\" ,x.view_as(y))\n"
   ]
  },
  {
   "cell_type": "code",
   "execution_count": 24,
   "metadata": {},
   "outputs": [
    {
     "name": "stdout",
     "output_type": "stream",
     "text": [
      "tensor([[[ 59, 102,  84],\n",
      "         [ 78,   5,  41],\n",
      "         [ 93,  63,  87],\n",
      "         [ 50,  37,  10]]]) torch.Size([1, 4, 3])\n",
      "\n",
      "\n",
      "tensor([[[ 59, 102,  84]],\n",
      "\n",
      "        [[ 78,   5,  41]],\n",
      "\n",
      "        [[ 93,  63,  87]],\n",
      "\n",
      "        [[ 50,  37,  10]]]) torch.Size([4, 1, 3])\n",
      "\n",
      "\n",
      "tensor([[[ 59, 102,  84]],\n",
      "\n",
      "        [[ 78,   5,  41]],\n",
      "\n",
      "        [[ 93,  63,  87]],\n",
      "\n",
      "        [[ 50,  37,  10]]]) torch.Size([4, 3, 1])\n"
     ]
    }
   ],
   "source": [
    "print(x.unsqueeze(dim=0), x.unsqueeze(dim=0).shape)\n",
    "print('\\n')\n",
    "print(x.unsqueeze(dim=1),x.unsqueeze(dim=1).shape)\n",
    "print('\\n')\n",
    "print(x.unsqueeze(dim=1),x.unsqueeze(dim=2).shape)"
   ]
  },
  {
   "cell_type": "code",
   "execution_count": 25,
   "metadata": {},
   "outputs": [
    {
     "name": "stdout",
     "output_type": "stream",
     "text": [
      "\n",
      "\n",
      "\n",
      "torch.Size([4, 3])\n",
      "\n",
      "torch.Size([4, 3])\n",
      "\n",
      "torch.Size([1, 4, 3])\n",
      "\n",
      "torch.Size([1, 4, 3])\n",
      "\n",
      "torch.Size([1, 4, 1, 3])\n",
      "\n",
      "torch.Size([4, 1, 3, 1])\n",
      "\n",
      "torch.Size([1, 1, 4, 3])\n",
      "\n",
      "\n",
      "\n"
     ]
    }
   ],
   "source": [
    "print(f\"\"\"\n",
    "\n",
    "\n",
    "{x.size()}\n",
    "\n",
    "{x[:None].size()}\n",
    "\n",
    "{x[None].size()}\n",
    "\n",
    "{x[None,:].size()}\n",
    "\n",
    "{x[None,:,None,:].size()}\n",
    "\n",
    "{x[...,None,:,None].size()}\n",
    "\n",
    "{x[None,None,:].size()}\n",
    "\n",
    "\n",
    "\"\"\")"
   ]
  },
  {
   "cell_type": "code",
   "execution_count": 24,
   "metadata": {},
   "outputs": [
    {
     "data": {
      "text/plain": [
       "tensor([  0,  20,  40,  60,  80, 100])"
      ]
     },
     "execution_count": 24,
     "metadata": {},
     "output_type": "execute_result"
    }
   ],
   "source": [
    "#Slice Notation for Even Numbers\n",
    "\n",
    "torch.arange(0,110,10)[::2]"
   ]
  },
  {
   "cell_type": "code",
   "execution_count": 26,
   "metadata": {},
   "outputs": [
    {
     "data": {
      "text/plain": [
       "tensor([ 0, 30, 60, 90])"
      ]
     },
     "execution_count": 26,
     "metadata": {},
     "output_type": "execute_result"
    }
   ],
   "source": [
    "#Slice Notation for Odd Numbers\n",
    "\n",
    "torch.arange(0,110,10)[::3]"
   ]
  },
  {
   "cell_type": "markdown",
   "metadata": {},
   "source": [
    "Handle Tensor ops based on dimensions"
   ]
  },
  {
   "cell_type": "code",
   "execution_count": 82,
   "metadata": {},
   "outputs": [],
   "source": [
    "x = torch.arange(1,13,1).view(4,3).float()"
   ]
  },
  {
   "cell_type": "markdown",
   "metadata": {},
   "source": [
    "2-D Tensor:"
   ]
  },
  {
   "cell_type": "code",
   "execution_count": 83,
   "metadata": {},
   "outputs": [
    {
     "data": {
      "text/plain": [
       "tensor([[ 1.,  2.,  3.],\n",
       "        [ 4.,  5.,  6.],\n",
       "        [ 7.,  8.,  9.],\n",
       "        [10., 11., 12.]])"
      ]
     },
     "execution_count": 83,
     "metadata": {},
     "output_type": "execute_result"
    }
   ],
   "source": [
    "x"
   ]
  },
  {
   "cell_type": "code",
   "execution_count": 84,
   "metadata": {},
   "outputs": [
    {
     "data": {
      "text/plain": [
       "tensor([[5.5000, 6.5000, 7.5000]])"
      ]
     },
     "execution_count": 84,
     "metadata": {},
     "output_type": "execute_result"
    }
   ],
   "source": [
    "#Mean Along the Columns. Output Tensor will have 1 row but X columns\n",
    "\n",
    "x.mean(dim=0,keepdim=True)"
   ]
  },
  {
   "cell_type": "code",
   "execution_count": 85,
   "metadata": {},
   "outputs": [
    {
     "data": {
      "text/plain": [
       "tensor([[ 2.],\n",
       "        [ 5.],\n",
       "        [ 8.],\n",
       "        [11.]])"
      ]
     },
     "execution_count": 85,
     "metadata": {},
     "output_type": "execute_result"
    }
   ],
   "source": [
    "#Mean Along the ROWS. Output Tensor will have X rows and 1 row (2D)\n",
    "\n",
    "x.mean(dim=1,keepdim=True)"
   ]
  },
  {
   "cell_type": "markdown",
   "metadata": {},
   "source": [
    "3-D Tensor:"
   ]
  },
  {
   "cell_type": "code",
   "execution_count": 87,
   "metadata": {},
   "outputs": [
    {
     "data": {
      "text/plain": [
       "tensor([[[ 1.,  2.],\n",
       "         [ 3.,  4.]],\n",
       "\n",
       "        [[ 5.,  6.],\n",
       "         [ 7.,  8.]],\n",
       "\n",
       "        [[ 9., 10.],\n",
       "         [11., 12.]]])"
      ]
     },
     "execution_count": 87,
     "metadata": {},
     "output_type": "execute_result"
    }
   ],
   "source": [
    "x = x.view(3,2,2)\n",
    "x"
   ]
  },
  {
   "cell_type": "markdown",
   "metadata": {},
   "source": [
    "***With 3-Dimensions:***\n",
    "\n",
    "Dimension 0: Across the 3 blocks:\n",
    "- (1+5+9) /3 = 5\n",
    "- (2+6+10) /3 = 6\n",
    "- (3+7+11) /3 = 7\n",
    "- (4+8+12) /3 = 8\n",
    "               \n",
    "Dimension 1:Along the columns in every block\n",
    "\n",
    "Dimension 2: Along the rows in every block"
   ]
  },
  {
   "cell_type": "code",
   "execution_count": 89,
   "metadata": {},
   "outputs": [
    {
     "data": {
      "text/plain": [
       "tensor([[5., 6.],\n",
       "        [7., 8.]])"
      ]
     },
     "execution_count": 89,
     "metadata": {},
     "output_type": "execute_result"
    }
   ],
   "source": [
    "#Dim 0\n",
    "x.mean(dim=0)"
   ]
  },
  {
   "cell_type": "code",
   "execution_count": 90,
   "metadata": {},
   "outputs": [
    {
     "data": {
      "text/plain": [
       "tensor([[ 2.,  3.],\n",
       "        [ 6.,  7.],\n",
       "        [10., 11.]])"
      ]
     },
     "execution_count": 90,
     "metadata": {},
     "output_type": "execute_result"
    }
   ],
   "source": [
    "#Dim 1\n",
    "x.mean(dim=1)"
   ]
  },
  {
   "cell_type": "code",
   "execution_count": 91,
   "metadata": {},
   "outputs": [
    {
     "data": {
      "text/plain": [
       "tensor([[ 1.5000,  3.5000],\n",
       "        [ 5.5000,  7.5000],\n",
       "        [ 9.5000, 11.5000]])"
      ]
     },
     "execution_count": 91,
     "metadata": {},
     "output_type": "execute_result"
    }
   ],
   "source": [
    "#Dim 2\n",
    "x.mean(dim=2)"
   ]
  },
  {
   "cell_type": "code",
   "execution_count": 93,
   "metadata": {},
   "outputs": [
    {
     "data": {
      "text/plain": [
       "torch.return_types.max(\n",
       "values=tensor([[ 9., 10.],\n",
       "        [11., 12.]]),\n",
       "indices=tensor([[2, 2],\n",
       "        [2, 2]]))"
      ]
     },
     "execution_count": 93,
     "metadata": {},
     "output_type": "execute_result"
    }
   ],
   "source": [
    "x.max(dim=0)"
   ]
  },
  {
   "cell_type": "markdown",
   "metadata": {},
   "source": [
    "## Tensor Operations\n",
    "\n",
    "    - Change Tensor type\n",
    "    - torch.cat\n",
    "    - torch.stack\n",
    "    - Matrix Transpose\n",
    "    - Permute\n",
    "    - torch.where\n",
    "    - Slice Notation\n",
    "    - Math Ops"
   ]
  },
  {
   "cell_type": "code",
   "execution_count": 26,
   "metadata": {},
   "outputs": [
    {
     "data": {
      "text/plain": [
       "tensor([  0.,  10.,  20.,  30.,  40.,  50.,  60.,  70.,  80.,  90., 100.],\n",
       "       dtype=torch.float64)"
      ]
     },
     "execution_count": 26,
     "metadata": {},
     "output_type": "execute_result"
    }
   ],
   "source": [
    "torch.tensor(xx, dtype=torch.float64)"
   ]
  },
  {
   "cell_type": "code",
   "execution_count": 27,
   "metadata": {},
   "outputs": [
    {
     "name": "stdout",
     "output_type": "stream",
     "text": [
      "tensor([[ 59., 102.,  84.],\n",
      "        [ 78.,   5.,  41.],\n",
      "        [ 93.,  63.,  87.],\n",
      "        [ 50.,  37.,  10.]], dtype=torch.float64) \n",
      "\n",
      " tensor([[155., 174., 181.],\n",
      "        [120., 150., 125.],\n",
      "        [166., 106., 150.],\n",
      "        [114., 168., 143.]], dtype=torch.float64)\n"
     ]
    }
   ],
   "source": [
    "# Change dtypes and show x and y tensors\n",
    "print(x.type(torch.float64),\"\\n\\n\", y.type(torch.float64))"
   ]
  },
  {
   "cell_type": "code",
   "execution_count": 28,
   "metadata": {},
   "outputs": [
    {
     "name": "stdout",
     "output_type": "stream",
     "text": [
      "tensor([[ 59, 102,  84],\n",
      "        [ 78,   5,  41],\n",
      "        [ 93,  63,  87],\n",
      "        [ 50,  37,  10],\n",
      "        [155, 174, 181],\n",
      "        [120, 150, 125],\n",
      "        [166, 106, 150],\n",
      "        [114, 168, 143]])\n",
      "\n",
      "\n",
      "tensor([[ 59, 102,  84, 155, 174, 181],\n",
      "        [ 78,   5,  41, 120, 150, 125],\n",
      "        [ 93,  63,  87, 166, 106, 150],\n",
      "        [ 50,  37,  10, 114, 168, 143]])\n"
     ]
    }
   ],
   "source": [
    "print(torch.cat([x,y],dim=0))\n",
    "print('\\n')\n",
    "print(torch.cat([x,y],dim=1))"
   ]
  },
  {
   "cell_type": "code",
   "execution_count": 29,
   "metadata": {},
   "outputs": [
    {
     "name": "stdout",
     "output_type": "stream",
     "text": [
      "tensor([[[ 59, 102,  84],\n",
      "         [ 78,   5,  41],\n",
      "         [ 93,  63,  87],\n",
      "         [ 50,  37,  10]],\n",
      "\n",
      "        [[155, 174, 181],\n",
      "         [120, 150, 125],\n",
      "         [166, 106, 150],\n",
      "         [114, 168, 143]]])\n",
      "\n",
      "\n",
      "\n",
      "tensor([[[ 59, 102,  84],\n",
      "         [155, 174, 181]],\n",
      "\n",
      "        [[ 78,   5,  41],\n",
      "         [120, 150, 125]],\n",
      "\n",
      "        [[ 93,  63,  87],\n",
      "         [166, 106, 150]],\n",
      "\n",
      "        [[ 50,  37,  10],\n",
      "         [114, 168, 143]]])\n"
     ]
    }
   ],
   "source": [
    "print(torch.stack([x,y],dim=0))\n",
    "print('\\n\\n')\n",
    "print(torch.stack([x,y],dim=1))"
   ]
  },
  {
   "cell_type": "code",
   "execution_count": 30,
   "metadata": {},
   "outputs": [
    {
     "name": "stdout",
     "output_type": "stream",
     "text": [
      "Tensor x:\n",
      "tensor([[ 59, 102,  84],\n",
      "        [ 78,   5,  41],\n",
      "        [ 93,  63,  87],\n",
      "        [ 50,  37,  10]])\n",
      "\n",
      "Tensor x Transposed:\n",
      "tensor([[ 59,  78,  93,  50],\n",
      "        [102,   5,  63,  37],\n",
      "        [ 84,  41,  87,  10]])\n"
     ]
    }
   ],
   "source": [
    "#Transpose\n",
    "print(f'Tensor x:\\n{x}\\n\\nTensor x Transposed:\\n{x.mT}')"
   ]
  },
  {
   "cell_type": "code",
   "execution_count": 31,
   "metadata": {},
   "outputs": [
    {
     "data": {
      "text/plain": [
       "torch.Size([3, 2, 4])"
      ]
     },
     "execution_count": 31,
     "metadata": {},
     "output_type": "execute_result"
    }
   ],
   "source": [
    "#Permute\n",
    "pt = torch.arange(start=10,end=250,step=10).reshape(3,2,4)\n",
    "pt.size()"
   ]
  },
  {
   "cell_type": "code",
   "execution_count": 32,
   "metadata": {},
   "outputs": [
    {
     "data": {
      "text/plain": [
       "torch.Size([2, 4, 3])"
      ]
     },
     "execution_count": 32,
     "metadata": {},
     "output_type": "execute_result"
    }
   ],
   "source": [
    "#Returns a view of the original tensor input with its dimensions permuted\n",
    "# In other words, swapping the dimensions to a specific order stated in dims parameter.\n",
    "pt.permute(dims=(1,2,0)).size()"
   ]
  },
  {
   "cell_type": "code",
   "execution_count": 33,
   "metadata": {},
   "outputs": [
    {
     "data": {
      "text/plain": [
       "tensor([[0, 1, 0],\n",
       "        [1, 0, 0],\n",
       "        [1, 1, 1],\n",
       "        [0, 0, 0]])"
      ]
     },
     "execution_count": 33,
     "metadata": {},
     "output_type": "execute_result"
    }
   ],
   "source": [
    "torch.where(y/2 < x, 1, 0)"
   ]
  },
  {
   "cell_type": "code",
   "execution_count": 34,
   "metadata": {},
   "outputs": [
    {
     "name": "stdout",
     "output_type": "stream",
     "text": [
      "tensor([[155, 174, 181],\n",
      "        [120, 150, 125],\n",
      "        [166, 106, 150],\n",
      "        [114, 168, 143]]) \n",
      "\n",
      " tensor([[77.5000, 87.0000, 90.5000],\n",
      "        [60.0000, 75.0000, 62.5000],\n",
      "        [83.0000, 53.0000, 75.0000],\n",
      "        [57.0000, 84.0000, 71.5000]])\n"
     ]
    }
   ],
   "source": [
    "print(y,'\\n\\n', y/2)"
   ]
  },
  {
   "cell_type": "markdown",
   "metadata": {},
   "source": [
    "Slice Notation"
   ]
  },
  {
   "cell_type": "code",
   "execution_count": 35,
   "metadata": {},
   "outputs": [
    {
     "data": {
      "text/plain": [
       "tensor([[ 59, 102,  84],\n",
       "        [ 78,   5,  41],\n",
       "        [ 93,  63,  87],\n",
       "        [ 50,  37,  10]])"
      ]
     },
     "execution_count": 35,
     "metadata": {},
     "output_type": "execute_result"
    }
   ],
   "source": [
    "x"
   ]
  },
  {
   "cell_type": "code",
   "execution_count": 36,
   "metadata": {},
   "outputs": [
    {
     "data": {
      "text/plain": [
       "tensor([102,   5,  63,  37])"
      ]
     },
     "execution_count": 36,
     "metadata": {},
     "output_type": "execute_result"
    }
   ],
   "source": [
    "#Slice Notation\n",
    "x[:,1]"
   ]
  },
  {
   "cell_type": "code",
   "execution_count": 37,
   "metadata": {},
   "outputs": [
    {
     "data": {
      "text/plain": [
       "tensor([[102],\n",
       "        [  5],\n",
       "        [ 63],\n",
       "        [ 37]])"
      ]
     },
     "execution_count": 37,
     "metadata": {},
     "output_type": "execute_result"
    }
   ],
   "source": [
    "x[:,1:2]"
   ]
  },
  {
   "cell_type": "code",
   "execution_count": 38,
   "metadata": {},
   "outputs": [
    {
     "data": {
      "text/plain": [
       "tensor([5])"
      ]
     },
     "execution_count": 38,
     "metadata": {},
     "output_type": "execute_result"
    }
   ],
   "source": [
    "x[:,1:2][1]"
   ]
  },
  {
   "cell_type": "markdown",
   "metadata": {},
   "source": [
    "Math Ops"
   ]
  },
  {
   "cell_type": "code",
   "execution_count": 39,
   "metadata": {},
   "outputs": [
    {
     "data": {
      "text/plain": [
       "tensor([[214, 276, 265],\n",
       "        [198, 155, 166],\n",
       "        [259, 169, 237],\n",
       "        [164, 205, 153]])"
      ]
     },
     "execution_count": 39,
     "metadata": {},
     "output_type": "execute_result"
    }
   ],
   "source": [
    "x + y"
   ]
  },
  {
   "cell_type": "code",
   "execution_count": 40,
   "metadata": {},
   "outputs": [
    {
     "data": {
      "text/plain": [
       "tensor(709)"
      ]
     },
     "execution_count": 40,
     "metadata": {},
     "output_type": "execute_result"
    }
   ],
   "source": [
    "x.sum()"
   ]
  },
  {
   "cell_type": "code",
   "execution_count": 41,
   "metadata": {},
   "outputs": [
    {
     "data": {
      "text/plain": [
       "tensor([[ 9145, 17748, 15204],\n",
       "        [ 9360,   750,  5125],\n",
       "        [15438,  6678, 13050],\n",
       "        [ 5700,  6216,  1430]])"
      ]
     },
     "execution_count": 41,
     "metadata": {},
     "output_type": "execute_result"
    }
   ],
   "source": [
    "x * y"
   ]
  },
  {
   "cell_type": "code",
   "execution_count": 42,
   "metadata": {},
   "outputs": [
    {
     "data": {
      "text/plain": [
       "tensor([[37045, 32592, 41723, 29904],\n",
       "        [18990, 18871, 21836, 15753],\n",
       "        [36915, 33975, 41907, 30279],\n",
       "        [14800, 14465, 16872, 11352]])"
      ]
     },
     "execution_count": 42,
     "metadata": {},
     "output_type": "execute_result"
    }
   ],
   "source": [
    "torch.matmul( x, y.view(3,4))"
   ]
  },
  {
   "cell_type": "code",
   "execution_count": 43,
   "metadata": {},
   "outputs": [
    {
     "name": "stdout",
     "output_type": "stream",
     "text": [
      "\n",
      "[1 2 3]\n",
      "\n",
      " * \n",
      "\n",
      "[[155 174 181]\n",
      " [120 150 125]\n",
      " [166 106 150]\n",
      " [114 168 143]] \n",
      "\n",
      "= [[155 348 543]\n",
      " [120 300 375]\n",
      " [166 212 450]\n",
      " [114 336 429]]\n",
      "\n",
      "\n",
      "\n",
      "\n"
     ]
    }
   ],
   "source": [
    "print(f\"\"\"\n",
    "{np.arange(1,4,1)}\\n\\n * \\n\\n{y.numpy()} \\n\\n= {(np.arange(1,4,1) * y.numpy())}\n",
    "\n",
    "\n",
    "\n",
    "\"\"\")"
   ]
  },
  {
   "cell_type": "code",
   "execution_count": 44,
   "metadata": {},
   "outputs": [
    {
     "name": "stdout",
     "output_type": "stream",
     "text": [
      "\n",
      "[[59]\n",
      " [78]\n",
      " [93]\n",
      " [50]]\n",
      "\n",
      " * \n",
      "\n",
      "[1 2 3] \n",
      "\n",
      "= [[ 59 118 177]\n",
      " [ 78 156 234]\n",
      " [ 93 186 279]\n",
      " [ 50 100 150]]\n",
      "\n",
      "\n",
      "\n",
      "\n"
     ]
    }
   ],
   "source": [
    "print(f\"\"\"\n",
    "{x[:,0:1].numpy()}\\n\\n * \\n\\n{np.arange(1,4,1)} \\n\\n= {(x[:,0:1].numpy() * np.arange(1,4,1))}\n",
    "\n",
    "\n",
    "\n",
    "\"\"\")"
   ]
  },
  {
   "cell_type": "markdown",
   "metadata": {},
   "source": [
    "## Tensor Attributes\n",
    "\n",
    "    - Shape or Size (same thing)\n",
    "    - Device (CPU or GPU)\n",
    "    - Layout\n",
    "    - Mean\n",
    "    - Max\n",
    "    - argmin, argmax\n",
    "    - sum\n",
    "    - unique"
   ]
  },
  {
   "cell_type": "code",
   "execution_count": 45,
   "metadata": {},
   "outputs": [
    {
     "data": {
      "text/plain": [
       "torch.Size([4, 3])"
      ]
     },
     "execution_count": 45,
     "metadata": {},
     "output_type": "execute_result"
    }
   ],
   "source": [
    "x.shape"
   ]
  },
  {
   "cell_type": "code",
   "execution_count": 46,
   "metadata": {},
   "outputs": [
    {
     "data": {
      "text/plain": [
       "torch.Size([4, 3])"
      ]
     },
     "execution_count": 46,
     "metadata": {},
     "output_type": "execute_result"
    }
   ],
   "source": [
    "x.size()"
   ]
  },
  {
   "cell_type": "code",
   "execution_count": 47,
   "metadata": {},
   "outputs": [
    {
     "data": {
      "text/plain": [
       "device(type='cpu')"
      ]
     },
     "execution_count": 47,
     "metadata": {},
     "output_type": "execute_result"
    }
   ],
   "source": [
    "x.device"
   ]
  },
  {
   "cell_type": "code",
   "execution_count": 48,
   "metadata": {},
   "outputs": [
    {
     "data": {
      "text/plain": [
       "tensor(59.0833, dtype=torch.float64)"
      ]
     },
     "execution_count": 48,
     "metadata": {},
     "output_type": "execute_result"
    }
   ],
   "source": [
    "x = x.type(torch.float64)\n",
    "x.mean()"
   ]
  },
  {
   "cell_type": "code",
   "execution_count": 49,
   "metadata": {},
   "outputs": [
    {
     "data": {
      "text/plain": [
       "tensor(31.6183, dtype=torch.float64)"
      ]
     },
     "execution_count": 49,
     "metadata": {},
     "output_type": "execute_result"
    }
   ],
   "source": [
    "x.std()"
   ]
  },
  {
   "cell_type": "code",
   "execution_count": 50,
   "metadata": {},
   "outputs": [
    {
     "name": "stdout",
     "output_type": "stream",
     "text": [
      "\n",
      "Min Value: 5.0\n",
      "Index of min value: 4\n",
      "Max Value: 102.0\n",
      "Index of max value: 1\n",
      "\n",
      "Unique Values: tensor([  5.,  10.,  37.,  41.,  50.,  59.,  63.,  78.,  84.,  87.,  93., 102.],\n",
      "       dtype=torch.float64)\n",
      "\n"
     ]
    }
   ],
   "source": [
    "print(f\"\"\"\n",
    "Min Value: {x.min()}\n",
    "Index of min value: {x.argmin()}\n",
    "Max Value: {x.max()}\n",
    "Index of max value: {x.argmax()}\n",
    "\n",
    "Unique Values: {x.unique()}\n",
    "\"\"\")"
   ]
  },
  {
   "cell_type": "code",
   "execution_count": 51,
   "metadata": {},
   "outputs": [
    {
     "name": "stdout",
     "output_type": "stream",
     "text": [
      "tensor([[ 59., 102.,  84.],\n",
      "        [ 78.,   5.,  41.],\n",
      "        [ 93.,  63.,  87.],\n",
      "        [ 50.,  37.,  10.]], dtype=torch.float64) \n",
      "\n",
      " tensor([[70.0000, 51.7500, 55.5000]], dtype=torch.float64) \n",
      "\n",
      " (75+12+4+86)/4 =  44.25\n"
     ]
    }
   ],
   "source": [
    "print(x,'\\n\\n',x.mean(dim=0, keepdim=True), '\\n\\n', '(75+12+4+86)/4 = ', (75+12+4+86)/4 )"
   ]
  },
  {
   "cell_type": "code",
   "execution_count": 52,
   "metadata": {},
   "outputs": [
    {
     "name": "stdout",
     "output_type": "stream",
     "text": [
      "tensor([[ 59., 102.,  84.],\n",
      "        [ 78.,   5.,  41.],\n",
      "        [ 93.,  63.,  87.],\n",
      "        [ 50.,  37.,  10.]], dtype=torch.float64) \n",
      "\n",
      " tensor([[81.6667],\n",
      "        [41.3333],\n",
      "        [81.0000],\n",
      "        [32.3333]], dtype=torch.float64) \n",
      "\n",
      " (75+51+100)/3 =  75.33\n"
     ]
    }
   ],
   "source": [
    "print(x,'\\n\\n',x.mean(dim=1, keepdim=True), '\\n\\n', '(75+51+100)/3 = ', format((75+51+100)/3,'1.4'))"
   ]
  },
  {
   "cell_type": "markdown",
   "metadata": {},
   "source": [
    "## Probability Distribution Functions"
   ]
  },
  {
   "cell_type": "markdown",
   "metadata": {},
   "source": [
    "**Bernoulli**"
   ]
  },
  {
   "cell_type": "code",
   "execution_count": 53,
   "metadata": {},
   "outputs": [
    {
     "name": "stdout",
     "output_type": "stream",
     "text": [
      "tensor([0.])\n",
      "tensor([1.])\n",
      "tensor([0.])\n",
      "tensor([0.])\n",
      "tensor([1.])\n",
      "tensor([1.])\n",
      "tensor([1.])\n",
      "tensor([1.])\n",
      "tensor([1.])\n",
      "tensor([0.])\n",
      "\n",
      "Mean: 0.600\n",
      "Variance: 0.267\n"
     ]
    }
   ],
   "source": [
    "# Toss a Coin 1 could represent heads and 0 tails\n",
    "\n",
    "bernoulli = dist.Bernoulli(torch.tensor([0.5]))\n",
    "# Tensor 0.5 represents the probability, which means 50% per event.\n",
    "\n",
    "\n",
    "# Sample from the distribution\n",
    "samples = []\n",
    "for i in range(10):\n",
    "    sample = bernoulli.sample() #Toss a Coin\n",
    "    samples.append(sample)\n",
    "    print(sample)\n",
    "print(f\"\\nMean: {torch.mean(torch.stack(samples)):2.3f}\") #Mean for all samples\n",
    "print(f\"Variance: {torch.var(torch.stack(samples)):2.3f}\") #Variance for all samples"
   ]
  },
  {
   "cell_type": "markdown",
   "metadata": {},
   "source": [
    "**Normal Distribution**"
   ]
  },
  {
   "cell_type": "code",
   "execution_count": 54,
   "metadata": {},
   "outputs": [
    {
     "name": "stdout",
     "output_type": "stream",
     "text": [
      "tensor([1.2398])\n",
      "tensor([0.3854])\n",
      "tensor([-0.8882])\n",
      "tensor([1.3042])\n",
      "tensor([0.4053])\n",
      "tensor([1.1156])\n",
      "tensor([-1.0638])\n",
      "tensor([-1.2994])\n",
      "tensor([1.3309])\n",
      "tensor([-2.0046])\n",
      "\n",
      "Mean: 0.05251725763082504\n",
      "Variance: 1.5740509033203125\n"
     ]
    }
   ],
   "source": [
    "# for dist.Normal function need to input Mean and STD (0 and 1)\n",
    "normal = dist.Normal(torch.tensor([0.0]), torch.tensor([1.0]))\n",
    "normal_samples = []\n",
    "for _ in range(10):\n",
    "    ns = normal.sample()\n",
    "    normal_samples.append(ns)\n",
    "    print(ns)\n",
    "    \n",
    "print(f\"\\nMean: {torch.mean(torch.stack(normal_samples))}\") #Mean for all samples\n",
    "print(f\"Variance: {torch.var(torch.stack(normal_samples))}\") #Variance for all samples"
   ]
  }
 ],
 "metadata": {
  "kernelspec": {
   "display_name": "Python 3",
   "language": "python",
   "name": "python3"
  },
  "language_info": {
   "codemirror_mode": {
    "name": "ipython",
    "version": 3
   },
   "file_extension": ".py",
   "mimetype": "text/x-python",
   "name": "python",
   "nbconvert_exporter": "python",
   "pygments_lexer": "ipython3",
   "version": "3.8.5"
  }
 },
 "nbformat": 4,
 "nbformat_minor": 4
}
